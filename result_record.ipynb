{
 "cells": [
  {
   "cell_type": "code",
   "execution_count": 4,
   "id": "34c841d0-fe3d-4520-be5e-787e8a18da14",
   "metadata": {},
   "outputs": [
    {
     "name": "stdout",
     "output_type": "stream",
     "text": [
      "         Date    UTS     YS    EL  Unit Weight  Transvers Height  \\\n",
      "0  2025-01-01  654.0  579.0  20.0        1.553              1.40   \n",
      "1  2025-01-01  644.0  572.0  17.0        1.551              1.40   \n",
      "2  2025-01-01  629.0  567.0  22.0        1.577              1.35   \n",
      "3  2025-01-01  616.0  535.0  22.0        1.575              1.35   \n",
      "4  2025-01-01  630.0  550.0  21.0        1.541              1.45   \n",
      "\n",
      "   Longitudinal Height  Rib spacing  Length     Bundle No  \n",
      "0                 1.00        10.92  6015.0  1.542501e+12  \n",
      "1                 1.00        10.92  6012.0  1.542501e+12  \n",
      "2                 0.95        10.92  6014.0  1.542501e+12  \n",
      "3                 0.95        10.92  6015.0  1.542501e+12  \n",
      "4                 1.00        10.92  6016.0  1.542501e+12  \n"
     ]
    },
    {
     "data": {
      "text/plain": [
       "np.float64(1542501011001.0)"
      ]
     },
     "execution_count": 4,
     "metadata": {},
     "output_type": "execute_result"
    }
   ],
   "source": [
    "import pandas as pd\n",
    "\n",
    "def get_filtered_table(csv_file_path, specific_dates):\n",
    "    \"\"\"\n",
    "    Reads a CSV file, filters the DataFrame by specific dates, and returns the filtered DataFrame.\n",
    "\n",
    "    Parameters:\n",
    "    csv_file_path (str): The path to the CSV file.\n",
    "    specific_dates (list): A list of dates to filter the DataFrame.\n",
    "\n",
    "    Returns:\n",
    "    pd.DataFrame: A DataFrame containing only the rows that match the specified dates.\n",
    "    \"\"\"\n",
    "    # Read the CSV file into a DataFrame\n",
    "    df = pd.read_csv(csv_file_path)\n",
    "\n",
    "    # Select the columns in the desired order\n",
    "    selected_columns = [\n",
    "        'Date', 'UTS', 'YS', 'EL', 'Unit Weight', 'Transvers Height', \n",
    "        'Longitudinal Height', 'Rib spacing', 'Length', 'Bundle No'\n",
    "    ]\n",
    "\n",
    "    # Create a new DataFrame with the selected columns\n",
    "    new_table = df[selected_columns]\n",
    "\n",
    "    # Drop rows that contain any NaN values\n",
    "    new_table = new_table.dropna()\n",
    "    print(new_table.head())\n",
    "\n",
    "    # Filter the DataFrame for the specific dates\n",
    "    filtered_table = new_table[new_table['Date'].isin(specific_dates)]\n",
    "\n",
    "    return filtered_table\n",
    "\n",
    "# Example usage\n",
    "csv_file_path = 'results.csv'  # Replace with your actual file path\n",
    "specific_dates = ['2025-01-01']  # Replace with your desired dates\n",
    "filtered_data = get_filtered_table(csv_file_path, specific_dates)\n",
    "\n",
    "filtered_data.iloc[0,9]"
   ]
  },
  {
   "cell_type": "code",
   "execution_count": 8,
   "id": "291e28ee-6010-4d58-bcad-9c1f4eee5c68",
   "metadata": {
    "scrolled": true
   },
   "outputs": [
    {
     "name": "stdout",
     "output_type": "stream",
     "text": [
      "1542501011001\n",
      "1542501011019\n",
      "1542501011043\n",
      "1542501011060\n",
      "1542501011085\n",
      "1542501011113\n",
      "1542501011135\n",
      "1542501011159\n",
      "1542501012001\n",
      "1542501012016\n",
      "1542501012045\n",
      "1542501012068\n",
      "1542501012090\n",
      "1542501012120\n",
      "1542501012154\n",
      "1542501012185\n",
      "1542501012191\n"
     ]
    }
   ],
   "source": [
    "\n",
    "\n",
    "# Iterate through each row and print the value in the second column (index 1)\n",
    "for row_index in range(filtered_data.shape[0]):  # Iterate over rows\n",
    "    value = filtered_data.iloc[row_index, 9].astype(int)  # Get the value from the second column\n",
    "    print(value)"
   ]
  },
  {
   "cell_type": "code",
   "execution_count": null,
   "id": "a32b9fee-56ec-4da1-b6a0-4f255278c3ba",
   "metadata": {},
   "outputs": [],
   "source": []
  }
 ],
 "metadata": {
  "kernelspec": {
   "display_name": "Python 3 (ipykernel)",
   "language": "python",
   "name": "python3"
  },
  "language_info": {
   "codemirror_mode": {
    "name": "ipython",
    "version": 3
   },
   "file_extension": ".py",
   "mimetype": "text/x-python",
   "name": "python",
   "nbconvert_exporter": "python",
   "pygments_lexer": "ipython3",
   "version": "3.13.1"
  }
 },
 "nbformat": 4,
 "nbformat_minor": 5
}
